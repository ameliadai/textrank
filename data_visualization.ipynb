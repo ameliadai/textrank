{
 "cells": [
  {
   "cell_type": "code",
   "execution_count": 5,
   "metadata": {},
   "outputs": [
    {
     "data": {
      "image/png": "[encoded data removed]",
      "text/plain": [
       "<Figure size 432x288 with 1 Axes>"
      ]
     },
     "metadata": {
      "needs_background": "light"
     },
     "output_type": "display_data"
    },
    {
     "name": "stdout",
     "output_type": "stream",
     "text": [
      "mean(num_sent_in_abstract/num_total_sent):  0.08597517580342699\n",
      "median(num_sent_in_abstract/num_total_sent):  0.05075294384057971\n"
     ]
    }
   ],
   "source": [
    "import pandas as pd\n",
    "import numpy as np\n",
    "import matplotlib.pyplot as plt \n",
    "import nltk\n",
    "\n",
    "\n",
    "df=pd.read_csv('New_covid-19.csv') \n",
    "abstract = df.abstract\n",
    "text_body = df.text_body\n",
    "\n",
    "sentences = [nltk.sent_tokenize(i) for i in abstract]\n",
    "num_of_sent_per_abs = [len(i) for i in sentences]\n",
    "# plt.hist(num_of_sent_per_abs,bins=50)\n",
    "# plt.show()\n",
    "# print(\"mean(num_sentences_in_abstract): \", np.mean(num_of_sent_per_abs))\n",
    "# print(\"medeian(numb_sentences_in_abstract): \", np.median(num_of_sent_per_abs))\n",
    "\n",
    "# num_sentence_in_abstract/num_total_sentences\n",
    "total_sentences = [nltk.sent_tokenize(i) for i in text_body]\n",
    "num_of_total_sent = [len(i) for i in total_sentences]\n",
    "sent_frac = [num_of_sent_per_abs[i]/num_of_total_sent[i] for i in range(len(num_of_sent_per_abs))]\n",
    "plt.hist(sent_frac,bins=300)\n",
    "plt.xlim((0,0.3))\n",
    "plt.xlabel('percentage')\n",
    "plt.ylabel('number of texts')\n",
    "plt.show()\n",
    "print(\"mean(num_sent_in_abstract/num_total_sent): \", np.mean(sent_frac))\n",
    "print(\"median(num_sent_in_abstract/num_total_sent): \", np.median(sent_frac))"
   ]
  }
 ],
 "metadata": {
  "interpreter": {
   "hash": "ab8f8ae80fafc6ac129e7fe646a0be18ed2869456ff4c93941a37a28edfebd3f"
  },
  "kernelspec": {
   "display_name": "Python 3.9.7 ('base')",
   "language": "python",
   "name": "python3"
  },
  "language_info": {
   "codemirror_mode": {
    "name": "ipython",
    "version": 3
   },
   "file_extension": ".py",
   "mimetype": "text/x-python",
   "name": "python",
   "nbconvert_exporter": "python",
   "pygments_lexer": "ipython3",
   "version": "3.9.7"
  },
  "orig_nbformat": 4
 },
 "nbformat": 4,
 "nbformat_minor": 2
}
